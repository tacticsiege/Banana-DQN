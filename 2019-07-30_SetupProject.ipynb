{
 "cells": [
  {
   "cell_type": "code",
   "execution_count": 1,
   "metadata": {},
   "outputs": [],
   "source": [
    "from util import env_initialize, env_reset, state_reward_done_unpack\n",
    "from util import demo_random_agent\n",
    "\n",
    "from dqn_agent import DQN_Params, DQN_Agent\n",
    "\n",
    "from unityagents import UnityEnvironment\n",
    "\n",
    "import matplotlib.pyplot as plt\n",
    "%matplotlib inline"
   ]
  },
  {
   "cell_type": "code",
   "execution_count": 2,
   "metadata": {},
   "outputs": [
    {
     "name": "stderr",
     "output_type": "stream",
     "text": [
      "INFO:unityagents:\n",
      "'Academy' started successfully!\n",
      "Unity Academy name: Academy\n",
      "        Number of Brains: 1\n",
      "        Number of External Brains : 1\n",
      "        Lesson number : 0\n",
      "        Reset Parameters :\n",
      "\t\t\n",
      "Unity brain name: BananaBrain\n",
      "        Number of Visual Observations (per agent): 0\n",
      "        Vector Observation space type: continuous\n",
      "        Vector Observation space size (per agent): 37\n",
      "        Number of stacked Vector Observation: 1\n",
      "        Vector Action space type: discrete\n",
      "        Vector Action space size (per agent): 4\n",
      "        Vector Action descriptions: , , , \n"
     ]
    }
   ],
   "source": [
    "seed = 0\n",
    "env = UnityEnvironment(file_name=\"Banana_Windows_x86_64/Banana.exe\")\n",
    "\n",
    "# gather scenario information\n",
    "brain, brain_name, state, action_size, state_size = env_initialize(env)\n",
    "\n",
    "# demo the environment with a uniformly random agent\n",
    "#demo_random_agent(env, n_episodes=2, train_mode=False)"
   ]
  },
  {
   "cell_type": "code",
   "execution_count": 3,
   "metadata": {},
   "outputs": [
    {
     "name": "stdout",
     "output_type": "stream",
     "text": [
      "Episode 100\tAverage Score: 0.42\tAvg. Duration: 1.4007s\n",
      "Episode 200\tAverage Score: 3.91\tAvg. Duration: 1.5755s\n",
      "Episode 300\tAverage Score: 7.15\tAvg. Duration: 1.6086s\n",
      "Episode 400\tAverage Score: 10.20\tAvg. Duration: 1.5834s\n",
      "Episode 500\tAverage Score: 12.42\tAvg. Duration: 1.5864s\n",
      "Training complete, Average Score: 12.42\tTotal Time: 12.74m\tAvg. Episode Duration: 1.528s\n"
     ]
    }
   ],
   "source": [
    "params = DQN_Params(name='Default DQN')\n",
    "agent = DQN_Agent(state_size, action_size, seed=seed, params=params)\n",
    "scores, ep_stats = agent.train(env, n_episodes=500)"
   ]
  },
  {
   "cell_type": "code",
   "execution_count": 4,
   "metadata": {},
   "outputs": [],
   "source": [
    "env.close()"
   ]
  },
  {
   "cell_type": "code",
   "execution_count": null,
   "metadata": {},
   "outputs": [],
   "source": []
  }
 ],
 "metadata": {
  "kernelspec": {
   "display_name": "Python 3",
   "language": "python",
   "name": "python3"
  },
  "language_info": {
   "codemirror_mode": {
    "name": "ipython",
    "version": 3
   },
   "file_extension": ".py",
   "mimetype": "text/x-python",
   "name": "python",
   "nbconvert_exporter": "python",
   "pygments_lexer": "ipython3",
   "version": "3.6.8"
  }
 },
 "nbformat": 4,
 "nbformat_minor": 2
}
